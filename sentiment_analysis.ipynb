{
 "cells": [
  {
   "cell_type": "markdown",
   "metadata": {},
   "source": [
    "## 0. Run this cell at start-up."
   ]
  },
  {
   "cell_type": "code",
   "execution_count": 1,
   "metadata": {},
   "outputs": [
    {
     "name": "stderr",
     "output_type": "stream",
     "text": [
      "[nltk_data] Downloading package vader_lexicon to\n",
      "[nltk_data]     /Users/thomasj/nltk_data...\n",
      "[nltk_data]   Package vader_lexicon is already up-to-date!\n"
     ]
    }
   ],
   "source": [
    "import pandas as pd\n",
    "import ipywidgets as widgets\n",
    "\n",
    "from nltk.sentiment import SentimentIntensityAnalyzer\n",
    "import nltk.data\n",
    "\n",
    "nltk.download('punkt')\n",
    "nltk.download('vader_lexicon')\n",
    "tokenizer = nltk.data.load('tokenizers/punkt/english.pickle')\n",
    "pass"
   ]
  },
  {
   "cell_type": "markdown",
   "metadata": {},
   "source": [
    "## 1. For a given text, get the average sentiment and sentiment by sentence. \n",
    "*re-run this cell each time you want to get a new result*"
   ]
  },
  {
   "cell_type": "code",
   "execution_count": 10,
   "metadata": {},
   "outputs": [
    {
     "data": {
      "application/vnd.jupyter.widget-view+json": {
       "model_id": "5cf8e0ff89e7405498f4bb0df2d2fa03",
       "version_major": 2,
       "version_minor": 0
      },
      "text/plain": [
       "VBox(children=(Text(value='Title', description='Title:'), Textarea(value='Paste contents of .txt here.', descr…"
      ]
     },
     "metadata": {},
     "output_type": "display_data"
    },
    {
     "data": {
      "application/vnd.jupyter.widget-view+json": {
       "model_id": "19601b89948b4e3eb023e17791b54b58",
       "version_major": 2,
       "version_minor": 0
      },
      "text/plain": [
       "  0%|          | 0/144 [00:00<?, ?it/s]"
      ]
     },
     "metadata": {},
     "output_type": "display_data"
    },
    {
     "name": "stdout",
     "output_type": "stream",
     "text": [
      "df sentiment\n",
      "\n",
      "\n",
      "sentiment summary scores (average)\n",
      "\n",
      "neg         0.100056\n",
      "neu         0.838826\n",
      "pos         0.061125\n",
      "compound   -0.132240\n",
      "dtype: float64\n"
     ]
    },
    {
     "data": {
      "image/png": "[encoded data removed]",
      "text/plain": [
       "<Figure size 864x360 with 1 Axes>"
      ]
     },
     "metadata": {
      "needs_background": "light"
     },
     "output_type": "display_data"
    }
   ],
   "source": [
    "from matplotlib import pyplot as plt\n",
    "from tqdm.notebook import tqdm\n",
    "from functools import lru_cache\n",
    "from IPython.display import clear_output\n",
    "\n",
    "sia = SentimentIntensityAnalyzer()\n",
    "\n",
    "lru_cache(None)\n",
    "def sentiment(sentence):\n",
    "    return sia.polarity_scores(sentence)\n",
    "\n",
    "def tokenize_sentiment(txt):\n",
    "\n",
    "    sents = tokenizer.tokenize(txt)\n",
    "    sentiments = []\n",
    "    for s in tqdm(sents):\n",
    "        sentiments.append(sentiment(s))\n",
    "    return sents, sentiments\n",
    "\n",
    "def sentiment_plot(state):\n",
    "    if text.value=='Paste contents of .txt here.' or title.value=='Title':\n",
    "        return('Please enter text for all fields')\n",
    "    \n",
    "    sents, sentiments = tokenize_sentiment(text.value)\n",
    "        \n",
    "    plt.figure(figsize=(12,5))\n",
    "    ax =  plt.gca()\n",
    "    df = pd.DataFrame(sentiments)\n",
    "    \n",
    "    print('{} sentiment\\n\\n'.format(title.value))\n",
    "    out = df.mean()\n",
    "    print('sentiment summary scores (average)\\n')\n",
    "    print(out)\n",
    "    \n",
    "    if len(df)>1000:\n",
    "        smooth = 250\n",
    "    else:\n",
    "        smooth = int(len(df)/10)\n",
    "    \n",
    "    ts = (df['pos']-df['neg']).rolling(smooth).mean()\n",
    "    ax = ts.plot(title='sentiment', ax = ax)\n",
    "    ax.set_xlabel(\"narrative time\")\n",
    "    return sents, ts\n",
    "    \n",
    "title = widgets.Text(description='Title:', value='Title')\n",
    "\n",
    "text = widgets.Textarea(\n",
    "            value='Paste contents of .txt here.',\n",
    "            placeholder='Type something',\n",
    "            description='String:',\n",
    "            disabled=False,\n",
    "            layout={'width': '98%', 'height':'250px'}\n",
    "        )\n",
    "\n",
    "button = widgets.Button(\n",
    "    description='Run',\n",
    "    disabled=False,\n",
    "    button_style='',\n",
    "    tooltip='Run',\n",
    "    icon='', layout={'pos': 'center'}\n",
    ")\n",
    "\n",
    "box_layout = widgets.Layout(display='flex',\n",
    "                flex_flow='column',\n",
    "                align_items='flex-start',\n",
    "                width='50%')\n",
    "\n",
    "button.on_click(sentiment_plot)\n",
    "box = widgets.VBox([title, text, button], titles =('Title', 'Text'), layout=box_layout)\n",
    "box"
   ]
  },
  {
   "cell_type": "markdown",
   "metadata": {},
   "source": [
    "## 2. For the text entered above, identify plot sections relevant to sentiment graph."
   ]
  },
  {
   "cell_type": "code",
   "execution_count": 12,
   "metadata": {},
   "outputs": [
    {
     "data": {
      "application/vnd.jupyter.widget-view+json": {
       "model_id": "d54cc835e99b4eda9959fcbe13216c4a",
       "version_major": 2,
       "version_minor": 0
      },
      "text/plain": [
       "interactive(children=(Text(value='', description='line'), IntSlider(value=10, description='window', min=10, st…"
      ]
     },
     "metadata": {},
     "output_type": "display_data"
    }
   ],
   "source": [
    "from ipywidgets import interact\n",
    "\n",
    "@interact(line='', window=(10,100,10))\n",
    "def print_text(line, window=10):\n",
    "    try:\n",
    "        line = int(line)\n",
    "    except:\n",
    "        return('Please enter a number.')\n",
    "    \n",
    "    sents, sentiments = tokenize_sentiment(text.value)\n",
    "    df = pd.DataFrame(sentiments)\n",
    "    \n",
    "    if len(df)>1000:\n",
    "        smooth = 250\n",
    "    else:\n",
    "        smooth = int(len(df)/10)\n",
    "        \n",
    "    ts = (df['pos']-df['neg']).rolling(smooth).mean()\n",
    "    \n",
    "    out = []\n",
    "    for result in zip(list(df[line-window:line+window].index), \n",
    "                      sents[line-window:line+window],\n",
    "                      ts[line-window:line+window]):\n",
    "        out.append(str((round(result[2],3), result[0], result[1])))\n",
    "    out = '\\n'.join(out)\n",
    "    print(out)"
   ]
  },
  {
   "cell_type": "code",
   "execution_count": null,
   "metadata": {},
   "outputs": [],
   "source": []
  }
 ],
 "metadata": {
  "kernelspec": {
   "display_name": "Python 3",
   "language": "python",
   "name": "python3"
  },
  "language_info": {
   "codemirror_mode": {
    "name": "ipython",
    "version": 3
   },
   "file_extension": ".py",
   "mimetype": "text/x-python",
   "name": "python",
   "nbconvert_exporter": "python",
   "pygments_lexer": "ipython3",
   "version": "3.7.2"
  }
 },
 "nbformat": 4,
 "nbformat_minor": 2
}

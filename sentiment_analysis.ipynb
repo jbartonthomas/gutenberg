{
 "cells": [
  {
   "cell_type": "code",
   "execution_count": 60,
   "metadata": {},
   "outputs": [],
   "source": [
    "import pandas as pd\n",
    "import ipywidgets as widgets\n",
    "\n",
    "from nltk.sentiment import SentimentIntensityAnalyzer"
   ]
  },
  {
   "cell_type": "code",
   "execution_count": 8,
   "metadata": {},
   "outputs": [],
   "source": [
    "import nltk.data\n",
    "tokenizer = nltk.data.load('tokenizers/punkt/english.pickle')\n",
    "nltk.download('vader_lexicon')"
   ]
  },
  {
   "cell_type": "code",
   "execution_count": 66,
   "metadata": {},
   "outputs": [
    {
     "data": {
      "application/vnd.jupyter.widget-view+json": {
       "model_id": "c0671ad72d6f4d0b86a8864257e0450b",
       "version_major": 2,
       "version_minor": 0
      },
      "text/plain": [
       "VBox(children=(Text(value='Title', description='Title:'), Textarea(value='Paste contents of .txt here.', descr…"
      ]
     },
     "metadata": {},
     "output_type": "display_data"
    },
    {
     "data": {
      "image/png": "[encoded data removed]",
      "text/plain": [
       "<Figure size 864x360 with 1 Axes>"
      ]
     },
     "metadata": {
      "needs_background": "light"
     },
     "output_type": "display_data"
    }
   ],
   "source": [
    "from matplotlib import pyplot as plt\n",
    "\n",
    "def sentiment_plot(state):\n",
    "    sia = SentimentIntensityAnalyzer()\n",
    "    if text.value=='Paste contents of .txt here.' or title.value=='Title':\n",
    "        return('Please enter text for all fields')\n",
    "    sents = tokenizer.tokenize(text.value)\n",
    "    result = []\n",
    "    for s in sents:\n",
    "        result.append(sia.polarity_scores(s))\n",
    "        \n",
    "    plt.figure(figsize=(12,5))        \n",
    "    ax=plt.gca()\n",
    "    ax = pd.DataFrame(result).plot(title=title.value, ax = ax)\n",
    "    ax.set_xlabel(\"narrative time\")\n",
    "    return ax\n",
    "    \n",
    "title = widgets.Text(description='Title:', value='Title')\n",
    "\n",
    "text = widgets.Textarea(\n",
    "            value='Paste contents of .txt here.',\n",
    "            placeholder='Type something',\n",
    "            description='String:',\n",
    "            disabled=False,\n",
    "            layout={'width': '98%'}\n",
    "        )\n",
    "\n",
    "button = widgets.Button(\n",
    "    description='Run',\n",
    "    disabled=False,\n",
    "    button_style='',\n",
    "    tooltip='Run',\n",
    "    icon='' \n",
    ")\n",
    "\n",
    "button.on_click(sentiment_plot)\n",
    "box = widgets.VBox([title, text, button], titles =('Title', 'Text'))\n",
    "box"
   ]
  },
  {
   "cell_type": "code",
   "execution_count": null,
   "metadata": {},
   "outputs": [],
   "source": []
  }
 ],
 "metadata": {
  "kernelspec": {
   "display_name": "Python 3",
   "language": "python",
   "name": "python3"
  },
  "language_info": {
   "codemirror_mode": {
    "name": "ipython",
    "version": 3
   },
   "file_extension": ".py",
   "mimetype": "text/x-python",
   "name": "python",
   "nbconvert_exporter": "python",
   "pygments_lexer": "ipython3",
   "version": "3.7.2"
  }
 },
 "nbformat": 4,
 "nbformat_minor": 2
}

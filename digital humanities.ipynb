{
 "cells": [
  {
   "cell_type": "code",
   "execution_count": 4,
   "metadata": {},
   "outputs": [
    {
     "data": {
      "application/vnd.jupyter.widget-view+json": {
       "model_id": "7045160e810a4a369c2678ae54e7f14d",
       "version_major": 2,
       "version_minor": 0
      },
      "text/plain": [
       "HBox(children=(IntProgress(value=0, max=20), HTML(value='')))"
      ]
     },
     "metadata": {},
     "output_type": "display_data"
    },
    {
     "name": "stdout",
     "output_type": "stream",
     "text": [
      "\n"
     ]
    }
   ],
   "source": [
    "import requests\n",
    "from tqdm import tqdm_notebook\n",
    "import pandas as pd\n",
    "from sklearn.feature_extraction.text import TfidfVectorizer, CountVectorizer\n",
    "from joblib import load, dump\n",
    "import os\n",
    "\n",
    "\n",
    "# all texts available for analysis\n",
    "texts = \\\n",
    "[('moby_dick',\"https://www.gutenberg.org/files/2701/2701-0.txt\"),\n",
    "('huck_finn',\"http://www.gutenberg.org/files/76/76-0.txt\"),\n",
    "('great_expectations',\"http://www.gutenberg.org/files/1400/1400-0.txt\"),\n",
    "('tale_two_cities',\"http://www.gutenberg.org/files/98/98-0.txt\"),\n",
    "('jekyll_hyde', \"http://www.gutenberg.org/files/11/11-0.txt\"),\n",
    "('wuthering_heights',\"http://www.gutenberg.org/cache/epub/768/pg768.txt\"),\n",
    "('beowulf', 'http://www.gutenberg.org/cache/epub/16328/pg16328.txt'),\n",
    "('anthem', 'https://www.gutenberg.org/files/1250/1250-0.txt'),\n",
    "('frankenstein', 'https://www.gutenberg.org/files/84/84-0.txt'),\n",
    "('scarlet_letter', 'https://www.gutenberg.org/files/25344/25344-0.txt'),\n",
    "('awakening','https://www.gutenberg.org/files/160/160.txt'),\n",
    "('yellow_wallpaper', 'https://www.gutenberg.org/files/1952/1952-0.txt'),\n",
    "('turn_of_the_screw', 'https://www.gutenberg.org/files/209/209-0.txt'),\n",
    "('great_gatsby','http://gutenberg.net.au/ebooks02/0200041.txt'),\n",
    "('oliver_twist','https://www.gutenberg.org/files/730/730.txt'),\n",
    "('1984','http://gutenberg.net.au/ebooks01/0100021.txt'),\n",
    "('metamorphosis', 'http://www.gutenberg.org/cache/epub/5200/pg5200.txt'),\n",
    "('jane_eyre','http://www.gutenberg.org/cache/epub/1260/pg1260.txt'),\n",
    "('tom_sawyer','https://www.gutenberg.org/files/74/74-0.txt'),\n",
    "('uncle_toms_cabin', 'https://www.gutenberg.org/files/203/203-0.txt')]\n",
    "\n",
    "def clean_text(text):\n",
    "    'remove gutenberg formatting'\n",
    "    try:\n",
    "        start = text.index(\"START OF THIS PROJECT GUTENBERG EBOOK\")\n",
    "        end = text.index(\"END OF THIS PROJECT GUTENBERG EBOOK\")\n",
    "    except:\n",
    "        try:\n",
    "            start = text.index(\"START OF THE PROJECT GUTENBERG EBOOK\")\n",
    "            end = text.index(\"END OF THE PROJECT GUTENBERG EBOOK\")\n",
    "        except:\n",
    "            try:\n",
    "                start = text.index(\"Title: The Great Gatsby Author: F. Scott Fitzgerald\")\n",
    "                end = text.index(\"THE END\")\n",
    "            except:\n",
    "                start = text.index(\"Title: Nineteen eighty-four Author: George Orwell (pseudonym of Eric Blair)\")\n",
    "                end = text.index(\"THE END\")\n",
    "\n",
    "                \n",
    "            \n",
    "    clean_text = text[start:end]\n",
    "    assert len(clean_text)>.5*len(text)\n",
    "    return clean_text\n",
    "\n",
    "def get_text(url):\n",
    "    'fetch txt for a given url'\n",
    "    \n",
    "    resp = requests.get(url)\n",
    "    text = resp.text.replace('nigger', 'SLUR')\n",
    "    text = ''.join(char for char in text if ord(char) < 128)\n",
    "    text = ' '.join(text.split())\n",
    "\n",
    "    return clean_text(text) \n",
    "\n",
    "def run(texts):\n",
    "    \n",
    "    df=[]\n",
    "    for t in tqdm_notebook(texts):\n",
    "        df.append((t[0], get_text(t[1])))\n",
    "        \n",
    "        \n",
    "    df = pd.DataFrame(df)\n",
    "\n",
    "    tfidf = TfidfVectorizer(max_features=10000, max_df=.5, lowercase=False, )\n",
    "    dff = pd.DataFrame(tfidf.fit_transform(df[1]).todense())\n",
    "    dff['title'] = df[0]\n",
    "    \n",
    "    return dff, df, tfidf\n",
    "\n",
    "if os.path.exists('data/texts.dat'):\n",
    "    dff, df, tfidf = load('data/texts.dat')\n",
    "    assert(len(dff) == len(texts)), 'saved data does not match requested texts'\n",
    "else:\n",
    "    dff, df, tfidf = run(texts)  \n",
    "    dump([dff, df, tfidf], 'data/texts.dat')"
   ]
  },
  {
   "cell_type": "markdown",
   "metadata": {},
   "source": [
    "## 1. Extract KWIC and lexical dispersion plots for keywords of interest"
   ]
  },
  {
   "cell_type": "code",
   "execution_count": 5,
   "metadata": {
    "scrolled": false
   },
   "outputs": [
    {
     "data": {
      "application/vnd.jupyter.widget-view+json": {
       "model_id": "2ae4c1a7178c4bc08b071396858e730d",
       "version_major": 2,
       "version_minor": 0
      },
      "text/plain": [
       "interactive(children=(Dropdown(description='title', index=10, options=('moby_dick', 'huck_finn', 'great_expect…"
      ]
     },
     "metadata": {},
     "output_type": "display_data"
    }
   ],
   "source": [
    "from re import finditer\n",
    "from itertools import tee, islice, chain, repeat\n",
    "from pprint import pprint \n",
    "from prettytable import PrettyTable\n",
    "from IPython.display import HTML\n",
    "from ipywidgets.widgets import interact\n",
    "import numpy as np\n",
    "from matplotlib import pyplot as plt\n",
    "\n",
    "def kwic(text, tgtword, width=10):\n",
    "    'Find all occurrences of tgtword and show the surrounding context'\n",
    "    matches = (mo.span() for mo in finditer(r\"[A-Za-z\\'\\-]+\", text))\n",
    "    padded = chain(repeat((0,0), width), matches, repeat((-1,-1), width))\n",
    "    t1, t2, t3 = tee((padded), 3)\n",
    "    t2 = islice(t2, width, None)\n",
    "    t3 = islice(t3, 2*width, None)\n",
    "    for (start, _), (i, j), (_, stop) in zip(t1, t2, t3):\n",
    "        if text[i: j] == tgtword:\n",
    "            context = text[start: stop]\n",
    "            yield context, (i,j)\n",
    "            \n",
    "\n",
    "@interact(word='', title=dff.title, size=range(10,25))\n",
    "def get_kwic(title='awakening',word='love', size=25):\n",
    "    \n",
    "    text = str(df[df[0]==title][1].values)\n",
    "    \n",
    "    poss=[]\n",
    "    rows=[]\n",
    "    for t, pos in list(kwic(text, word, size)):       \n",
    "        cols = t.split()\n",
    "\n",
    "        left = ' '.join(cols[0:int(size)])\n",
    "        right = ' '.join(cols[int(size)+1:-1])\n",
    "        rows.append([left, word, right])\n",
    "        poss.append(pos)\n",
    "\n",
    "    x = PrettyTable()\n",
    "    x.field_names = ['left','word','right']\n",
    "    for r in rows:\n",
    "        x.add_row(r)\n",
    "        \n",
    "    if len(rows):\n",
    "        dispersion_plot =  np.zeros(len(text))\n",
    "        for p in poss:\n",
    "            dispersion_plot[p[0]:p[1]] = 1\n",
    "\n",
    "        plt.figure(figsize=(12,5))\n",
    "        \n",
    "        s = pd.Series(dispersion_plot).rolling(5000).sum()\n",
    "        s = pd.DataFrame(s).reset_index()\n",
    "        s['index'] = s['index']/(len(s)/100)\n",
    "        s.set_index('index', inplace=True)\n",
    "        ax=plt.gca()\n",
    "        s.plot(ax=ax)\n",
    "        \n",
    "        table = x.get_html_string().replace(word,'<b>'+word+'</b>')\n",
    "        \n",
    "        return HTML(table)"
   ]
  },
  {
   "cell_type": "markdown",
   "metadata": {},
   "source": [
    "## 2. Extract Contextual Stats"
   ]
  },
  {
   "cell_type": "code",
   "execution_count": 6,
   "metadata": {},
   "outputs": [
    {
     "data": {
      "application/vnd.jupyter.widget-view+json": {
       "model_id": "8a860a0402524b69ab54e30d2066451e",
       "version_major": 2,
       "version_minor": 0
      },
      "text/plain": [
       "interactive(children=(Dropdown(description='title', options=('moby_dick', 'huck_finn', 'great_expectations', '…"
      ]
     },
     "metadata": {},
     "output_type": "display_data"
    }
   ],
   "source": [
    "@interact(word='', title=dff.title, size=range(11,27,2))\n",
    "def get_mi(title='moby_dick',word='nature', size=27):\n",
    "\n",
    "    text = str(df[df[0]==title][1].values)\n",
    "    cv_all = CountVectorizer(max_features=100000,stop_words='english', lowercase=True)\n",
    "    m_all = cv_all.fit_transform([text]).todense().flatten()\n",
    "\n",
    "    texts = []\n",
    "    for t,pos in list(kwic(text, word, size)):       \n",
    "        cols = t.split(' ')\n",
    "        left = ' '.join(cols[0:int(size)])\n",
    "        right = ' '.join(cols[int(size)+1:-1])\n",
    "        texts.append(left +' ' + right)\n",
    "\n",
    "    if len(texts):\n",
    "\n",
    "        cv = CountVectorizer(max_features=10000, stop_words='english',lowercase=True)\n",
    "        m = cv.fit_transform(texts)\n",
    "\n",
    "        hits = m.shape[0]\n",
    "\n",
    "        names = cv.get_feature_names()\n",
    "        m = m.todense().sum(axis=0)\n",
    "\n",
    "        inds = []\n",
    "        D = {}\n",
    "        for i,item in enumerate(cv_all.get_feature_names()):\n",
    "            D[item] = i\n",
    "\n",
    "\n",
    "        for n in names:\n",
    "            inds.append(D[n])\n",
    "\n",
    "        a = np.asarray(m_all[0].tolist()[0])[np.asarray(inds)]\n",
    "\n",
    "        p_a_b = [_/(hits*size*2) for _ in m]\n",
    "        p_b = hits/len(text)\n",
    "        p_a = [_/len(text) for _ in a]\n",
    "\n",
    "        scores = [(a_b/(a*p_b)) for a_b, a in zip(p_a_b, p_a)]\n",
    "        \n",
    "        print(\"Total number of occurences: {}\".format(hits))\n",
    "        result_list = [(n, s) for n,s in zip(names, scores[0].tolist()[0])]\n",
    "        result = pd.DataFrame(result_list).sort_values(1, ascending=False).head(25)\n",
    "        \n",
    "        return result \n",
    "    \n",
    "    else:\n",
    "        print('please enter term appearing in document')\n"
   ]
  },
  {
   "cell_type": "markdown",
   "metadata": {},
   "source": [
    "## 3. Get top overall words for text"
   ]
  },
  {
   "cell_type": "code",
   "execution_count": 7,
   "metadata": {},
   "outputs": [
    {
     "data": {
      "application/vnd.jupyter.widget-view+json": {
       "model_id": "11de7f89c45643b5a09d1a2b4d51150b",
       "version_major": 2,
       "version_minor": 0
      },
      "text/plain": [
       "interactive(children=(Dropdown(description='title', options=('moby_dick', 'huck_finn', 'great_expectations', '…"
      ]
     },
     "metadata": {},
     "output_type": "display_data"
    }
   ],
   "source": [
    "from ipywidgets import interact\n",
    "@interact(title=dff.title)\n",
    "def get_top_terms(title='moby_dick'):\n",
    "    scores = dff[dff.title==title].drop('title', axis=1).values\n",
    "    inds = scores.argsort()[0][-15:]\n",
    "    #return \n",
    "    result = pd.DataFrame([(a[0],b) for a,b in \n",
    "                           zip(np.asarray(tfidf.get_feature_names()).reshape(-1,1)[inds], \n",
    "                               scores[0][inds])])\n",
    "    result.sort_values(1, ascending=False, inplace=True)\n",
    "    return result \n"
   ]
  },
  {
   "cell_type": "markdown",
   "metadata": {},
   "source": [
    "# 4. Get similarity between all documents"
   ]
  },
  {
   "cell_type": "code",
   "execution_count": 8,
   "metadata": {},
   "outputs": [
    {
     "data": {
      "image/png": "[encoded data removed]",
      "text/plain": [
       "<Figure size 720x576 with 2 Axes>"
      ]
     },
     "metadata": {
      "needs_background": "light"
     },
     "output_type": "display_data"
    }
   ],
   "source": [
    "import seaborn as sns\n",
    "\n",
    "c = dff.drop('title',axis=1).T.corr()\n",
    "c = c.rename(columns={i:v for i,v in dff.title.items()},index={i:v for i,v in dff.title.items()})\n",
    "plt.figure(figsize=(10,8))\n",
    "sns.heatmap(c, vmin=-.05, vmax=.05,cmap=\"RdBu_r\")\n",
    "\n",
    "pass"
   ]
  },
  {
   "cell_type": "code",
   "execution_count": null,
   "metadata": {},
   "outputs": [],
   "source": []
  },
  {
   "cell_type": "code",
   "execution_count": null,
   "metadata": {},
   "outputs": [],
   "source": []
  },
  {
   "cell_type": "code",
   "execution_count": null,
   "metadata": {},
   "outputs": [],
   "source": []
  },
  {
   "cell_type": "code",
   "execution_count": 738,
   "metadata": {},
   "outputs": [
    {
     "name": "stdout",
     "output_type": "stream",
     "text": [
      "\n",
      "Topics in LDA model:\n",
      "Topic #0: said like know old come little man day good great\n",
      "Topic #1: said mr old man know come time did hand went\n",
      "Topic #2: said man come time like mr did looked little good\n",
      "Topic #3: said man old like mr did little time went think\n",
      "Topic #4: said mr little like time man ll know tom did\n",
      "Topic #5: said old like way little got man did know come\n",
      "Topic #6: said mr time know little old did like way away\n",
      "Topic #7: said mr time little know good man come like way\n",
      "Topic #8: said like mr time little did hand old good way\n",
      "Topic #9: said like time little mr tom did long come man\n",
      "Topic #10: said mr know little like time did come man head\n",
      "Topic #11: said little mr know like good tom time come did\n",
      "Topic #12: said little like time mr know man good come did\n",
      "Topic #13: said mr like little time man did old know come\n",
      "Topic #14: said mr time did like man way know say little\n",
      "\n"
     ]
    }
   ],
   "source": [
    "from sklearn.feature_extraction.text import TfidfVectorizer, CountVectorizer\n",
    "from sklearn.decomposition import LatentDirichletAllocation\n",
    "\n",
    "n_samples = 2000\n",
    "n_features = 2000\n",
    "n_components = 15\n",
    "n_top_words = 10\n",
    "\n",
    "def print_top_words(model, feature_names, n_top_words):\n",
    "    for topic_idx, topic in enumerate(model.components_):\n",
    "        message = \"Topic #%d: \" % topic_idx\n",
    "        message += \" \".join([feature_names[i]\n",
    "                             for i in topic.argsort()[:-n_top_words - 1:-1]])\n",
    "        print(message)\n",
    "    print()\n",
    "    \n",
    "\n",
    "def split_str(seq, chunk, skip_tail=False):\n",
    "    lst = []\n",
    "    if chunk <= len(seq):\n",
    "        lst.extend([seq[:chunk]])\n",
    "        lst.extend(split_str(seq[chunk:], chunk, skip_tail))\n",
    "    elif not skip_tail and seq:\n",
    "        lst.extend([seq])\n",
    "    return lst\n",
    "\n",
    "\n",
    "lda = LatentDirichletAllocation(n_components=n_components, max_iter=5,\n",
    "                                learning_method='online',\n",
    "                                learning_offset=50.,\n",
    "                                random_state=0)\n",
    "\n",
    "cv = CountVectorizer(stop_words='english', lowercase=True)\n",
    "\n",
    "cv.fit(df[1].values)\n",
    "tf = cv.transform(df[1].values)\n",
    "\n",
    "\n",
    "lda.fit(tf)\n",
    "\n",
    "\n",
    "print(\"\\nTopics in LDA model:\")\n",
    "tf_feature_names = cv.get_feature_names()\n",
    "print_top_words(lda, tf_feature_names, n_top_words)"
   ]
  }
 ],
 "metadata": {
  "kernelspec": {
   "display_name": "Python 3",
   "language": "python",
   "name": "python3"
  },
  "language_info": {
   "codemirror_mode": {
    "name": "ipython",
    "version": 3
   },
   "file_extension": ".py",
   "mimetype": "text/x-python",
   "name": "python",
   "nbconvert_exporter": "python",
   "pygments_lexer": "ipython3",
   "version": "3.7.5"
  }
 },
 "nbformat": 4,
 "nbformat_minor": 2
}
